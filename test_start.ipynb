{
 "cells": [
  {
   "cell_type": "code",
   "execution_count": null,
   "id": "88010967",
   "metadata": {
    "scrolled": true
   },
   "outputs": [],
   "source": [
    "from batch_data_test_tool.apps.cola import cola_start"
   ]
  },
  {
   "cell_type": "code",
   "execution_count": null,
   "id": "f076aa41-6af3-479b-8206-b36af4b2a541",
   "metadata": {},
   "outputs": [],
   "source": [
    "cola_start()"
   ]
  },
  {
   "cell_type": "code",
   "execution_count": null,
   "id": "002dab24-b656-455e-bd3f-2fb462a869ae",
   "metadata": {},
   "outputs": [],
   "source": []
  }
 ],
 "metadata": {
  "kernelspec": {
   "display_name": "Python 3 (ipykernel)",
   "language": "python",
   "name": "python3"
  },
  "language_info": {
   "codemirror_mode": {
    "name": "ipython",
    "version": 3
   },
   "file_extension": ".py",
   "mimetype": "text/x-python",
   "name": "python",
   "nbconvert_exporter": "python",
   "pygments_lexer": "ipython3",
   "version": "3.8.10"
  }
 },
 "nbformat": 4,
 "nbformat_minor": 5
}
