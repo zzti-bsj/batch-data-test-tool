{
 "cells": [
  {
   "cell_type": "code",
   "execution_count": 1,
   "id": "88010967",
   "metadata": {
    "scrolled": true
   },
   "outputs": [
    {
     "name": "stdout",
     "output_type": "stream",
     "text": [
      "['conversation_text']\n",
      "['conversation_text']\n"
     ]
    }
   ],
   "source": [
    "from batch_data_test_tool.apps.cola import simple_start"
   ]
  },
  {
   "cell_type": "code",
   "execution_count": 2,
   "id": "f076aa41-6af3-479b-8206-b36af4b2a541",
   "metadata": {},
   "outputs": [
    {
     "data": {
      "application/vnd.jupyter.widget-view+json": {
       "model_id": "a1194ad230e0427a8974d8f8e86ebf3a",
       "version_major": 2,
       "version_minor": 0
      },
      "text/plain": [
       "VBox(children=(HTML(value='\\n        <div style=\"\\n            text-align: center;\\n            background: #3…"
      ]
     },
     "metadata": {},
     "output_type": "display_data"
    }
   ],
   "source": [
    "simple_start()"
   ]
  },
  {
   "cell_type": "code",
   "execution_count": null,
   "id": "002dab24-b656-455e-bd3f-2fb462a869ae",
   "metadata": {},
   "outputs": [],
   "source": []
  }
 ],
 "metadata": {
  "kernelspec": {
   "display_name": "Python 3 (ipykernel)",
   "language": "python",
   "name": "python3"
  },
  "language_info": {
   "codemirror_mode": {
    "name": "ipython",
    "version": 3
   },
   "file_extension": ".py",
   "mimetype": "text/x-python",
   "name": "python",
   "nbconvert_exporter": "python",
   "pygments_lexer": "ipython3",
   "version": "3.8.10"
  }
 },
 "nbformat": 4,
 "nbformat_minor": 5
}
